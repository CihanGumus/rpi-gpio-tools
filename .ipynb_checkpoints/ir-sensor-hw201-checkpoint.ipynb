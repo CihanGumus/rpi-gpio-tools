{
 "cells": [
  {
   "cell_type": "code",
   "execution_count": 2,
   "id": "a5c1e9bf-e61f-48c8-9d7b-b76d94129399",
   "metadata": {},
   "outputs": [],
   "source": [
    "import RPi.GPIO as GPIO\n",
    "import time"
   ]
  },
  {
   "cell_type": "code",
   "execution_count": 5,
   "id": "017e6f09-21b9-49af-af6b-c747e62bd111",
   "metadata": {},
   "outputs": [],
   "source": [
    "#set Infrared input pin\n",
    "ir = 22"
   ]
  },
  {
   "cell_type": "code",
   "execution_count": 12,
   "id": "65f38a7a-790f-49a9-b23d-08d57f5de517",
   "metadata": {},
   "outputs": [],
   "source": [
    "GPIO.setmode(GPIO.BOARD)\n",
    "GPIO.setup(ir,GPIO.IN,pull_up_down=GPIO.PUD_DOWN)"
   ]
  },
  {
   "cell_type": "code",
   "execution_count": null,
   "id": "e207547b-86c3-4048-a291-f4ed1d36a906",
   "metadata": {},
   "outputs": [],
   "source": [
    "while True:\n",
    "    if(GPIO.input(ir)==GPIO.LOW):\n",
    "        print(\"close\")\n",
    "    else:\n",
    "        print(\"far\")\n",
    "    time.sleep(1)"
   ]
  },
  {
   "cell_type": "code",
   "execution_count": 11,
   "id": "ae62568e-9b25-40c6-af52-2d96fe9e934c",
   "metadata": {},
   "outputs": [],
   "source": [
    "GPIO.cleanup()"
   ]
  }
 ],
 "metadata": {
  "kernelspec": {
   "display_name": "Python 3 (ipykernel)",
   "language": "python",
   "name": "python3"
  },
  "language_info": {
   "codemirror_mode": {
    "name": "ipython",
    "version": 3
   },
   "file_extension": ".py",
   "mimetype": "text/x-python",
   "name": "python",
   "nbconvert_exporter": "python",
   "pygments_lexer": "ipython3",
   "version": "3.9.2"
  }
 },
 "nbformat": 4,
 "nbformat_minor": 5
}
