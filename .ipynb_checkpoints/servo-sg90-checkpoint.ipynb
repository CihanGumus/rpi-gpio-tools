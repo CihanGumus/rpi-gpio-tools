{
 "cells": [
  {
   "cell_type": "code",
   "execution_count": null,
   "id": "b64167ee-8ca8-43a2-b08d-a6119c208380",
   "metadata": {},
   "outputs": [],
   "source": [
    "import RPi.GPIO as GPIO\n",
    "import time"
   ]
  },
  {
   "cell_type": "code",
   "execution_count": null,
   "id": "e6a8dfa6-3e7e-428a-9d18-703404327639",
   "metadata": {},
   "outputs": [],
   "source": [
    "#set servo pin\n",
    "servo = 22"
   ]
  },
  {
   "cell_type": "code",
   "execution_count": null,
   "id": "2351be9b-ed52-4969-8dd7-47fd1464831b",
   "metadata": {},
   "outputs": [],
   "source": [
    "#Set GPIO numbering mode\n",
    "GPIO.setmode(GPIO.BOARD)\n",
    "GPIO.setup(servo,GPIO.OUT)\n",
    "p=GPIO.PWM(servo,50)"
   ]
  },
  {
   "cell_type": "code",
   "execution_count": null,
   "id": "02fe035c-346d-4e28-8581-5f6b6ba3c4bb",
   "metadata": {},
   "outputs": [],
   "source": [
    "p.start(0)"
   ]
  },
  {
   "cell_type": "code",
   "execution_count": null,
   "id": "056cabdc-0ef5-4d02-825d-6b4b37439c86",
   "metadata": {},
   "outputs": [],
   "source": [
    "try:\n",
    "    while True:\n",
    "        angle = float(input(\"angle pls: \"))\n",
    "        p.ChangeDutyCycle(2+(angle/18))\n",
    "        time.sleep(0.1)\n",
    "        p.ChangeDutyCycle(0)\n",
    "finally:\n",
    "    p.stop()\n",
    "    GPIO.cleanup()\n",
    "    print(\"ended\")"
   ]
  }
 ],
 "metadata": {
  "kernelspec": {
   "display_name": "Python 3 (ipykernel)",
   "language": "python",
   "name": "python3"
  },
  "language_info": {
   "codemirror_mode": {
    "name": "ipython",
    "version": 3
   },
   "file_extension": ".py",
   "mimetype": "text/x-python",
   "name": "python",
   "nbconvert_exporter": "python",
   "pygments_lexer": "ipython3",
   "version": "3.9.2"
  }
 },
 "nbformat": 4,
 "nbformat_minor": 5
}
