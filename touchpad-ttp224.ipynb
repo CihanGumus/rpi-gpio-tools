{
 "cells": [
  {
   "cell_type": "code",
   "execution_count": null,
   "id": "35cad676-5a03-400d-8e63-a29d7ec238ae",
   "metadata": {},
   "outputs": [],
   "source": [
    "import RPi.GPIO as GPIO\n",
    "import time"
   ]
  },
  {
   "cell_type": "code",
   "execution_count": null,
   "id": "5d039677-617f-4963-936a-524c79aaa7fd",
   "metadata": {},
   "outputs": [],
   "source": [
    "touchpad1 = 36\n",
    "touchpad2 = 37\n",
    "touchpad3 = 16\n",
    "touchpad4 = 18"
   ]
  },
  {
   "cell_type": "code",
   "execution_count": null,
   "id": "e52ed781-d1f9-45ed-a46b-29afa5ab6e6e",
   "metadata": {},
   "outputs": [],
   "source": [
    "GPIO.setmode(GPIO.BOARD)\n",
    "GPIO.setup(touchpad1, GPIO.IN,pull_up_down=GPIO.PUD_DOWN)\n",
    "GPIO.setup(touchpad2, GPIO.IN,pull_up_down=GPIO.PUD_DOWN)\n",
    "GPIO.setup(touchpad3, GPIO.IN,pull_up_down=GPIO.PUD_DOWN)\n",
    "GPIO.setup(touchpad4, GPIO.IN,pull_up_down=GPIO.PUD_DOWN)"
   ]
  },
  {
   "cell_type": "code",
   "execution_count": null,
   "id": "76ceb22d-6e36-4394-ba56-7b8cca4dbed8",
   "metadata": {
    "scrolled": true,
    "tags": []
   },
   "outputs": [],
   "source": [
    "while True: \n",
    "    if GPIO.input(touchpad1) == 1:\n",
    "        print(\"Button 1 pressed\")\n",
    "    elif GPIO.input(touchpad2) == 1:\n",
    "        print(\"Button 2 pressed\")\n",
    "    elif GPIO.input(touchpad3) == 1:\n",
    "        print(\"Button 3 pressed\")\n",
    "    elif GPIO.input(touchpad4) == 1:\n",
    "        print(\"Button 4 pressed\")\n",
    "    else:\n",
    "        pass\n",
    "    time.sleep(0.1)"
   ]
  }
 ],
 "metadata": {
  "kernelspec": {
   "display_name": "Python 3 (ipykernel)",
   "language": "python",
   "name": "python3"
  },
  "language_info": {
   "codemirror_mode": {
    "name": "ipython",
    "version": 3
   },
   "file_extension": ".py",
   "mimetype": "text/x-python",
   "name": "python",
   "nbconvert_exporter": "python",
   "pygments_lexer": "ipython3",
   "version": "3.9.2"
  }
 },
 "nbformat": 4,
 "nbformat_minor": 5
}
